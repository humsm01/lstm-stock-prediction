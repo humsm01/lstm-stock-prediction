{
 "cells": [
  {
   "cell_type": "markdown",
   "id": "1a8d0eaa",
   "metadata": {},
   "source": [
    "# LSTM-Based Stock Price Prediction with TensorFlow & Keras\n",
    "_Predicting future stock prices using historical Microsoft data and deep learning._"
   ]
  },
  {
   "cell_type": "code",
   "execution_count": null,
   "id": "374ad1af",
   "metadata": {},
   "outputs": [],
   "source": [
    "# Importing all necessary libraries for data processing, visualization, modeling, and evaluation\n",
    "import pandas as pd\n",
    "import numpy as np\n",
    "from tensorflow import keras\n",
    "from sklearn.preprocessing import StandardScaler\n",
    "import matplotlib.pyplot as plt\n",
    "import seaborn as sns\n",
    "from datetime import datetime\n",
    "import os\n",
    "from sklearn.metrics import mean_absolute_error\n",
    "from sklearn.metrics import r2_score\n",
    "import time \n",
    "\n",
    "os.environ['TF_CPP_MIN_LOG_LEVEL'] = '2'# Suppress TensorFlow warnings"
   ]
  },
  {
   "cell_type": "code",
   "execution_count": null,
   "id": "c0d44f18",
   "metadata": {},
   "outputs": [],
   "source": [
    "# Load and inspect the Microsoft stock dataset\n",
    "data = pd.read_csv(\"MicrosoftStock.csv\")\n",
    "print(data.head())\n",
    "print(data.info())\n",
    "print(data.describe())"
   ]
  },
  {
   "cell_type": "code",
   "execution_count": null,
   "id": "38cb6b10",
   "metadata": {},
   "outputs": [],
   "source": [
    "# Visualize key stock trends: Open vs Close prices and Trading Volume over time\n",
    "plt.figure(figsize=(12,6))\n",
    "plt.plot(data['date'], data['open'], label=\"Open\",color=\"blue\")\n",
    "plt.plot(data['date'], data['close'], label=\"Close\",color=\"red\")\n",
    "plt.title(\"Open-Close Price over Time\")\n",
    "plt.legend()\n",
    "\n",
    "plt.figure(figsize=(12,6))\n",
    "plt.plot(data['date'],data['volume'],label=\"Volume\",color=\"orange\")\n",
    "plt.title(\"Stock Volume over Time\")"
   ]
  },
  {
   "cell_type": "code",
   "execution_count": null,
   "id": "d8ec8290",
   "metadata": {},
   "outputs": [],
   "source": [
    "# Explore relationships between numeric features using a correlation heatmap\n",
    "numeric_data = data.select_dtypes(include=[\"int64\",\"float64\"])\n",
    "\n",
    "plt.figure(figsize=(8,6))\n",
    "sns.heatmap(numeric_data.corr(), annot=True, cmap=\"coolwarm\")\n",
    "plt.title(\"Feature Correlation Heatmap\")"
   ]
  },
  {
   "cell_type": "code",
   "execution_count": null,
   "id": "9525c877",
   "metadata": {},
   "outputs": [],
   "source": [
    "# Convert 'date' column to datetime format and visualize close prices from 2013 to 2018\n",
    "data['date'] = pd.to_datetime(data['date'])\n",
    "\n",
    "prediction = data.loc[\n",
    "    (data['date'] > datetime(2013,1,1)) &\n",
    "    (data['date'] < datetime(2018,1,1))\n",
    "]\n",
    "\n",
    "plt.figure(figsize=(12,6))\n",
    "plt.plot(data['date'], data['close'], color=\"blue\")\n",
    "plt.xlabel(\"Date\")\n",
    "plt.ylabel(\"Close\")\n",
    "plt.title(\"Price over Time\")"
   ]
  },
  {
   "cell_type": "code",
   "execution_count": null,
   "id": "0c4c7cf4",
   "metadata": {},
   "outputs": [],
   "source": [
    "# Prepare Training Data (Scaling + Sliding Window)\n",
    "stock_close = data.filter([\"close\"])\n",
    "dataset = stock_close.values\n",
    "training_data_len = int(np.ceil(len(dataset) * 0.95))\n",
    "\n",
    "# Scale the closing prices\n",
    "scaler = StandardScaler()\n",
    "scaled_data = scaler.fit_transform(dataset)\n",
    "\n",
    "# Generate training sequences using past 60 days\n",
    "training_data = scaled_data[:training_data_len]\n",
    "X_train, y_train = [], []\n",
    "\n",
    "for i in range(60, len(training_data)):\n",
    "    X_train.append(training_data[i-60:i, 0])\n",
    "    y_train.append(training_data[i, 0])\n",
    "\n",
    "# Reshape for LSTM input\n",
    "X_train, y_train = np.array(X_train), np.array(y_train)\n",
    "X_train = np.reshape(X_train, (X_train.shape[0], X_train.shape[1], 1))"
   ]
  },
  {
   "cell_type": "code",
   "execution_count": null,
   "id": "726aaa8c",
   "metadata": {},
   "outputs": [],
   "source": [
    "# Build and train LSTM Model\n",
    "model = keras.models.Sequential()\n",
    "model.add(keras.layers.LSTM(64, return_sequences=True, input_shape=(X_train.shape[1], 1)))\n",
    "model.add(keras.layers.LSTM(64, return_sequences=False))\n",
    "model.add(keras.layers.Dense(128, activation=\"relu\"))\n",
    "model.add(keras.layers.Dropout(0.5))\n",
    "model.add(keras.layers.Dense(1))\n",
    "\n",
    "model.summary()\n",
    "\n",
    "model.compile(optimizer=\"adam\",\n",
    "              loss=\"mae\",\n",
    "              metrics=[keras.metrics.RootMeanSquaredError()])\n",
    "\n",
    "training = model.fit(X_train, y_train, epochs=20, batch_size=32)"
   ]
  },
  {
   "cell_type": "code",
   "execution_count": null,
   "id": "faff2f10",
   "metadata": {},
   "outputs": [],
   "source": [
    "# Prepare test data and make predictions\n",
    "test_data = scaled_data[training_data_len - 60:]\n",
    "X_test, y_test = [], dataset[training_data_len:]\n",
    "\n",
    "for i in range(60, len(test_data)):\n",
    "    X_test.append(test_data[i-60:i, 0])\n",
    "\n",
    "X_test = np.array(X_test)\n",
    "X_test = np.reshape(X_test, (X_test.shape[0], X_test.shape[1], 1))\n",
    "\n",
    "predictions = model.predict(X_test)\n",
    "predictions = scaler.inverse_transform(predictions)"
   ]
  },
  {
   "cell_type": "code",
   "execution_count": null,
   "id": "e9cbbdab",
   "metadata": {},
   "outputs": [],
   "source": [
    "# Visualize actual vs. predicted stock prices\n",
    "train = data[:training_data_len]\n",
    "test = data[training_data_len:].copy()\n",
    "test['Predictions'] = predictions\n",
    "\n",
    "plt.figure(figsize=(12,8))\n",
    "plt.plot(train['date'], train['close'], label=\"Train (Actual)\", color='blue')\n",
    "plt.plot(test['date'], test['close'], label=\"Test (Actual)\", color='orange')\n",
    "plt.plot(test['date'], test['Predictions'], label=\"Predictions\", color='red')\n",
    "plt.title(\"LSTM Stock Predictions\")\n",
    "plt.xlabel(\"Date\")\n",
    "plt.ylabel(\"Close Price\")\n",
    "plt.legend()\n",
    "plt.show()"
   ]
  },
  {
   "cell_type": "code",
   "execution_count": null,
   "id": "d32ff170",
   "metadata": {},
   "outputs": [],
   "source": [
    "# Evaluate model performance on test set using MAE and RMSE\n",
    "test_loss, test_rmse = model.evaluate(X_test, y_test, verbose=0)\n",
    "print(f\"Test MAE: {test_loss:.4f}, Test RMSE: {test_rmse:.4f}\")"
   ]
  },
  {
   "cell_type": "code",
   "execution_count": null,
   "id": "9631b9ad",
   "metadata": {},
   "outputs": [],
   "source": [
    "# Naive baseline: yesterday's price is today's prediction\n",
    "naive_preds = y_test[:-1]\n",
    "actual = y_test[1:]\n",
    "\n",
    "naive_mae = mean_absolute_error(actual, naive_preds)\n",
    "print(f\"Naive Baseline MAE: {naive_mae:.4f}\")"
   ]
  },
  {
   "cell_type": "code",
   "execution_count": null,
   "id": "f6218f60",
   "metadata": {},
   "outputs": [],
   "source": [
    "# Calculate R² score to assess how well predictions explain the variance in actual values\n",
    "r2 = r2_score(y_test, predictions)\n",
    "print(f\"R² Score: {r2:.4f}\")"
   ]
  },
  {
   "cell_type": "code",
   "execution_count": null,
   "id": "97099d24",
   "metadata": {},
   "outputs": [],
   "source": [
    "# Measure and display model training time for benchmarking\n",
    "start = time.time()\n",
    "training = model.fit(X_train, y_train, epochs=20, batch_size=32, verbose=0)\n",
    "end = time.time()\n",
    "\n",
    "print(f\"Training time: {end - start:.2f} seconds\")"
   ]
  },
  {
   "cell_type": "code",
   "execution_count": null,
   "id": "ca32b188",
   "metadata": {},
   "outputs": [],
   "source": [
    "# Visualize training loss over epochs to evaluate model convergence\n",
    "plt.plot(training.history['loss'], label='Train Loss')\n",
    "plt.title('Loss Curve')\n",
    "plt.xlabel('Epoch')\n",
    "plt.ylabel('MAE Loss')\n",
    "plt.legend()\n",
    "plt.show()"
   ]
  }
 ],
 "metadata": {
  "language_info": {
   "name": "python"
  }
 },
 "nbformat": 4,
 "nbformat_minor": 5
}
